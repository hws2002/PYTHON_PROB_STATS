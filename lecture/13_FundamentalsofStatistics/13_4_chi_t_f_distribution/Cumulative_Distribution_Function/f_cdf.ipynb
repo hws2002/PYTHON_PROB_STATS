{
 "cells": [
  {
   "cell_type": "code",
   "execution_count": 1,
   "metadata": {},
   "outputs": [
    {
     "name": "stdout",
     "output_type": "stream",
     "text": [
      "Intel MKL WARNING: Support of Intel(R) Streaming SIMD Extensions 4.2 (Intel(R) SSE4.2) enabled only processors has been deprecated. Intel oneAPI Math Kernel Library 2025.0 will require Intel(R) Advanced Vector Extensions (Intel(R) AVX) instructions.\n",
      "Intel MKL WARNING: Support of Intel(R) Streaming SIMD Extensions 4.2 (Intel(R) SSE4.2) enabled only processors has been deprecated. Intel oneAPI Math Kernel Library 2025.0 will require Intel(R) Advanced Vector Extensions (Intel(R) AVX) instructions.\n",
      "The probability that F is less than or equal to 2 is 0.16419495089973868\n"
     ]
    }
   ],
   "source": [
    "import numpy as np\n",
    "from scipy.stats import f\n",
    "\n",
    "# Define the degrees of freedom (df) and location parameter (mu)\n",
    "dfnum = 5\n",
    "dfden = 10\n",
    "\n",
    "# Define the value at which to evaluate the CDF\n",
    "x = 2\n",
    "\n",
    "# Calculate the CDF of the F-distribution\n",
    "cdf = f.cdf(x, dfnum, dfden)\n",
    "\n",
    "# Calculate the probability that F is less than or equal to x\n",
    "prob = 1 - cdf\n",
    "\n",
    "print(\"The probability that F is less than or equal to\", x, \"is\", prob)"
   ]
  },
  {
   "cell_type": "code",
   "execution_count": null,
   "metadata": {},
   "outputs": [],
   "source": []
  }
 ],
 "metadata": {
  "kernelspec": {
   "display_name": "probs_stats",
   "language": "python",
   "name": "python3"
  },
  "language_info": {
   "codemirror_mode": {
    "name": "ipython",
    "version": 3
   },
   "file_extension": ".py",
   "mimetype": "text/x-python",
   "name": "python",
   "nbconvert_exporter": "python",
   "pygments_lexer": "ipython3",
   "version": "3.9.16"
  },
  "orig_nbformat": 4
 },
 "nbformat": 4,
 "nbformat_minor": 2
}
