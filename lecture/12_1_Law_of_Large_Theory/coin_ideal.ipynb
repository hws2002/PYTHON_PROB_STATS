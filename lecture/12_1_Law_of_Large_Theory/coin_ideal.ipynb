{
 "cells": [
  {
   "cell_type": "code",
   "execution_count": 26,
   "metadata": {},
   "outputs": [],
   "source": [
    "import random"
   ]
  },
  {
   "cell_type": "code",
   "execution_count": 41,
   "metadata": {},
   "outputs": [],
   "source": [
    "def toss_coin(num_tosses):\n",
    "    num_heads = 0\n",
    "    for _ in range(num_tosses):\n",
    "        result = random.choice([\"Heads\", \"Tails\"])\n",
    "        if result == \"Heads\":\n",
    "            num_heads += 1\n",
    "    return num_heads\n"
   ]
  },
  {
   "cell_type": "code",
   "execution_count": 42,
   "metadata": {},
   "outputs": [],
   "source": [
    "def calculate_probability(num_tosses, num_experiments):\n",
    "    total_heads = 0\n",
    "    for _ in range(num_experiments):\n",
    "        num_heads = toss_coin(num_tosses)\n",
    "        total_heads += num_heads\n",
    "        print(f\"Number of heads in {num_tosses} tosses: {num_heads} | Probability : {num_heads/num_tosses}\")\n",
    "    probability = total_heads / (num_tosses * num_experiments)\n",
    "    return probability"
   ]
  },
  {
   "cell_type": "code",
   "execution_count": 44,
   "metadata": {},
   "outputs": [
    {
     "name": "stdout",
     "output_type": "stream",
     "text": [
      "--------------------------------------------------\n",
      "Number of heads in 10 tosses: 5 | Probability : 0.5\n",
      "Number of heads in 10 tosses: 6 | Probability : 0.6\n",
      "Number of heads in 10 tosses: 4 | Probability : 0.4\n",
      "Number of heads in 10 tosses: 2 | Probability : 0.2\n",
      "Number of heads in 10 tosses: 7 | Probability : 0.7\n",
      "Number of heads in 10 tosses: 5 | Probability : 0.5\n",
      "Number of heads in 10 tosses: 4 | Probability : 0.4\n",
      "Number of heads in 10 tosses: 5 | Probability : 0.5\n",
      "Number of heads in 10 tosses: 6 | Probability : 0.6\n",
      "Number of heads in 10 tosses: 5 | Probability : 0.5\n",
      "Average Probability of getting a head (10 tosses): 0.49\n",
      "--------------------------------------------------\n",
      "Number of heads in 50 tosses: 29 | Probability : 0.58\n",
      "Number of heads in 50 tosses: 29 | Probability : 0.58\n",
      "Number of heads in 50 tosses: 23 | Probability : 0.46\n",
      "Number of heads in 50 tosses: 27 | Probability : 0.54\n",
      "Number of heads in 50 tosses: 23 | Probability : 0.46\n",
      "Number of heads in 50 tosses: 25 | Probability : 0.5\n",
      "Number of heads in 50 tosses: 23 | Probability : 0.46\n",
      "Number of heads in 50 tosses: 25 | Probability : 0.5\n",
      "Number of heads in 50 tosses: 20 | Probability : 0.4\n",
      "Number of heads in 50 tosses: 23 | Probability : 0.46\n",
      "Average Probability of getting a head (50 tosses): 0.494\n",
      "--------------------------------------------------\n",
      "Number of heads in 1000 tosses: 482 | Probability : 0.482\n",
      "Number of heads in 1000 tosses: 467 | Probability : 0.467\n",
      "Number of heads in 1000 tosses: 495 | Probability : 0.495\n",
      "Number of heads in 1000 tosses: 510 | Probability : 0.51\n",
      "Number of heads in 1000 tosses: 528 | Probability : 0.528\n",
      "Number of heads in 1000 tosses: 517 | Probability : 0.517\n",
      "Number of heads in 1000 tosses: 502 | Probability : 0.502\n",
      "Number of heads in 1000 tosses: 516 | Probability : 0.516\n",
      "Number of heads in 1000 tosses: 483 | Probability : 0.483\n",
      "Number of heads in 1000 tosses: 483 | Probability : 0.483\n",
      "Average Probability of getting a head (100 tosses): 0.4983\n"
     ]
    }
   ],
   "source": [
    "# Simulate tossing a coin 10 times\n",
    "print(\"--------------------------------------------------\")\n",
    "num_tosses = 10\n",
    "num_experiments = 10\n",
    "avg_probability_10 = calculate_probability(num_tosses, num_experiments)\n",
    "print(\"Average Probability of getting a head (10 tosses):\", avg_probability_10)\n",
    "\n",
    "print(\"--------------------------------------------------\")\n",
    "# Simulate tossing a coin 50 times\n",
    "num_tosses = 50\n",
    "avg_probability_50 = calculate_probability(num_tosses, num_experiments)\n",
    "print(\"Average Probability of getting a head (50 tosses):\", avg_probability_50)\n",
    "\n",
    "print(\"--------------------------------------------------\")\n",
    "# Simulate tossing a coin 1000 times\n",
    "num_tosses = 1000\n",
    "avg_probability_100 = calculate_probability(num_tosses, num_experiments)\n",
    "print(\"Average Probability of getting a head (100 tosses):\", avg_probability_100)\n"
   ]
  },
  {
   "cell_type": "code",
   "execution_count": null,
   "metadata": {},
   "outputs": [],
   "source": []
  },
  {
   "cell_type": "code",
   "execution_count": null,
   "metadata": {},
   "outputs": [],
   "source": []
  }
 ],
 "metadata": {
  "kernelspec": {
   "display_name": "sentiment_analysis",
   "language": "python",
   "name": "python3"
  },
  "language_info": {
   "codemirror_mode": {
    "name": "ipython",
    "version": 3
   },
   "file_extension": ".py",
   "mimetype": "text/x-python",
   "name": "python",
   "nbconvert_exporter": "python",
   "pygments_lexer": "ipython3",
   "version": "3.9.16"
  },
  "orig_nbformat": 4
 },
 "nbformat": 4,
 "nbformat_minor": 2
}
