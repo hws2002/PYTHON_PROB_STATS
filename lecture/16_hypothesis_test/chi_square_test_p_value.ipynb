{
 "cells": [
  {
   "cell_type": "code",
   "execution_count": 3,
   "metadata": {},
   "outputs": [
    {
     "name": "stdout",
     "output_type": "stream",
     "text": [
      "p-value = 0.6942842716265463\n"
     ]
    }
   ],
   "source": [
    "from scipy.stats import chi2\n",
    "\n",
    "# Calculate the chi-square statistic (observed) and degrees of freedom (k)\n",
    "chi_square_statistic = 7.3267\n",
    "degrees_of_freedom = 10\n",
    "\n",
    "# Calculate the p-value using the survival function (sf)\n",
    "p_value = chi2.sf(chi_square_statistic, degrees_of_freedom)\n",
    "\n",
    "# Print the result\n",
    "print(\"p-value =\", p_value)\n"
   ]
  }
 ],
 "metadata": {
  "kernelspec": {
   "display_name": "probs_stats",
   "language": "python",
   "name": "python3"
  },
  "language_info": {
   "codemirror_mode": {
    "name": "ipython",
    "version": 3
   },
   "file_extension": ".py",
   "mimetype": "text/x-python",
   "name": "python",
   "nbconvert_exporter": "python",
   "pygments_lexer": "ipython3",
   "version": "3.9.16"
  },
  "orig_nbformat": 4
 },
 "nbformat": 4,
 "nbformat_minor": 2
}
