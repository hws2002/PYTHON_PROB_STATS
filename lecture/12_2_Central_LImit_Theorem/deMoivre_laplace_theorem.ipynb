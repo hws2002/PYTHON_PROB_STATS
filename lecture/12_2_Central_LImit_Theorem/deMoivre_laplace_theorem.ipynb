{
 "cells": [
  {
   "attachments": {},
   "cell_type": "markdown",
   "metadata": {},
   "source": [
    "参考 ： <https://www.youtube.com/watch?v=RxC888_kia4>"
   ]
  }
 ],
 "metadata": {
  "language_info": {
   "name": "python"
  },
  "orig_nbformat": 4
 },
 "nbformat": 4,
 "nbformat_minor": 2
}
