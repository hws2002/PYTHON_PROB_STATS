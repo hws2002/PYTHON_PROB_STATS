{
 "cells": [
  {
   "cell_type": "code",
   "execution_count": 2,
   "metadata": {},
   "outputs": [],
   "source": [
    "from coin import calculate_probability_ideal"
   ]
  },
  {
   "cell_type": "code",
   "execution_count": 3,
   "metadata": {},
   "outputs": [
    {
     "name": "stdout",
     "output_type": "stream",
     "text": [
      "--------------------------------------------------\n",
      "Number of heads in 10 tosses: 4 | Probability : 0.4\n",
      "Number of heads in 10 tosses: 3 | Probability : 0.3\n",
      "Number of heads in 10 tosses: 6 | Probability : 0.6\n",
      "Number of heads in 10 tosses: 3 | Probability : 0.3\n",
      "Number of heads in 10 tosses: 5 | Probability : 0.5\n",
      "Number of heads in 10 tosses: 5 | Probability : 0.5\n",
      "Number of heads in 10 tosses: 6 | Probability : 0.6\n",
      "Number of heads in 10 tosses: 7 | Probability : 0.7\n",
      "Number of heads in 10 tosses: 5 | Probability : 0.5\n",
      "Number of heads in 10 tosses: 7 | Probability : 0.7\n",
      "Average Probability of getting a head (10 tosses): 0.51 | biggest Gap: 0.2\n",
      "--------------------------------------------------\n",
      "Number of heads in 50 tosses: 18 | Probability : 0.36\n",
      "Number of heads in 50 tosses: 31 | Probability : 0.62\n",
      "Number of heads in 50 tosses: 28 | Probability : 0.56\n",
      "Number of heads in 50 tosses: 30 | Probability : 0.6\n",
      "Number of heads in 50 tosses: 26 | Probability : 0.52\n",
      "Number of heads in 50 tosses: 30 | Probability : 0.6\n",
      "Number of heads in 50 tosses: 32 | Probability : 0.64\n",
      "Number of heads in 50 tosses: 34 | Probability : 0.68\n",
      "Number of heads in 50 tosses: 25 | Probability : 0.5\n",
      "Number of heads in 50 tosses: 21 | Probability : 0.42\n",
      "Average Probability of getting a head (50 tosses): 0.55 | biggest Gap: 0.18000000000000005\n",
      "--------------------------------------------------\n",
      "Number of heads in 1000 tosses: 478 | Probability : 0.478\n",
      "Number of heads in 1000 tosses: 476 | Probability : 0.476\n",
      "Number of heads in 1000 tosses: 476 | Probability : 0.476\n",
      "Number of heads in 1000 tosses: 506 | Probability : 0.506\n",
      "Number of heads in 1000 tosses: 479 | Probability : 0.479\n",
      "Number of heads in 1000 tosses: 487 | Probability : 0.487\n",
      "Number of heads in 1000 tosses: 487 | Probability : 0.487\n",
      "Number of heads in 1000 tosses: 508 | Probability : 0.508\n",
      "Number of heads in 1000 tosses: 506 | Probability : 0.506\n",
      "Number of heads in 1000 tosses: 515 | Probability : 0.515\n",
      "Average Probability of getting a head (100 tosses): 0.4918 | biggest Gap: 0.02400000000000002\n",
      "Number of heads in 5000 tosses: 2474 | Probability : 0.4948\n",
      "Number of heads in 5000 tosses: 2538 | Probability : 0.5076\n",
      "Number of heads in 5000 tosses: 2523 | Probability : 0.5046\n",
      "Number of heads in 5000 tosses: 2443 | Probability : 0.4886\n",
      "Number of heads in 5000 tosses: 2550 | Probability : 0.51\n",
      "Number of heads in 5000 tosses: 2559 | Probability : 0.5118\n",
      "Number of heads in 5000 tosses: 2480 | Probability : 0.496\n",
      "Number of heads in 5000 tosses: 2482 | Probability : 0.4964\n",
      "Number of heads in 5000 tosses: 2494 | Probability : 0.4988\n",
      "Number of heads in 5000 tosses: 2484 | Probability : 0.4968\n",
      "Average Probability of getting a head (5000 tosses): 0.50054 | biggest Gap: 0.011800000000000033\n"
     ]
    }
   ],
   "source": [
    "# Simulate tossing a coin 10 times\n",
    "print(\"--------------------------------------------------\")\n",
    "num_tosses = 10\n",
    "num_experiments = 10\n",
    "avg_probability_10,biggest_gap = calculate_probability_ideal(num_tosses, num_experiments)\n",
    "print(f\"Average Probability of getting a head (10 tosses): {avg_probability_10} | biggest Gap: {biggest_gap}\")\n",
    "\n",
    "print(\"--------------------------------------------------\")\n",
    "# Simulate tossing a coin 50 times\n",
    "num_tosses = 50\n",
    "avg_probability_50,biggest_gap = calculate_probability_ideal(num_tosses, num_experiments)\n",
    "print(f\"Average Probability of getting a head (50 tosses): {avg_probability_50} | biggest Gap: {biggest_gap}\")\n",
    "\n",
    "\n",
    "print(\"--------------------------------------------------\")\n",
    "# Simulate tossing a coin 1000 times\n",
    "num_tosses = 1000\n",
    "avg_probability_100,biggest_gap = calculate_probability_ideal(num_tosses, num_experiments)\n",
    "print(f\"Average Probability of getting a head (100 tosses): {avg_probability_100} | biggest Gap: {biggest_gap}\")\n",
    "\n",
    "\n",
    "# Simulate tossing a coin 5000 times\n",
    "num_tosses = 5000\n",
    "avg_probability_5000,biggest_gap = calculate_probability_ideal(num_tosses, num_experiments)\n",
    "print(f\"Average Probability of getting a head (5000 tosses): {avg_probability_5000} | biggest Gap: {biggest_gap}\")\n"
   ]
  },
  {
   "cell_type": "code",
   "execution_count": null,
   "metadata": {},
   "outputs": [],
   "source": []
  }
 ],
 "metadata": {
  "kernelspec": {
   "display_name": "sentiment_analysis",
   "language": "python",
   "name": "python3"
  },
  "language_info": {
   "codemirror_mode": {
    "name": "ipython",
    "version": 3
   },
   "file_extension": ".py",
   "mimetype": "text/x-python",
   "name": "python",
   "nbconvert_exporter": "python",
   "pygments_lexer": "ipython3",
   "version": "3.9.16"
  },
  "orig_nbformat": 4
 },
 "nbformat": 4,
 "nbformat_minor": 2
}
