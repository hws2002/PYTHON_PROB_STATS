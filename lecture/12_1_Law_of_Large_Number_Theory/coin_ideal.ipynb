{
 "cells": [
  {
   "cell_type": "code",
   "execution_count": 6,
   "metadata": {},
   "outputs": [],
   "source": [
    "import random"
   ]
  },
  {
   "cell_type": "code",
   "execution_count": 14,
   "metadata": {},
   "outputs": [],
   "source": [
    "def toss_coin(num_tosses):\n",
    "    num_heads = 0\n",
    "    for _ in range(num_tosses):\n",
    "        result = random.choice([\"Heads\", \"Tails\"])\n",
    "        if result == \"Heads\":\n",
    "            num_heads += 1\n",
    "    return num_heads\n"
   ]
  },
  {
   "cell_type": "code",
   "execution_count": 15,
   "metadata": {},
   "outputs": [],
   "source": [
    "def calculate_probability(num_tosses, num_experiments):\n",
    "    delta = 0\n",
    "    total_heads = 0\n",
    "    for _ in range(num_experiments):\n",
    "        num_heads = toss_coin(num_tosses)\n",
    "        total_heads += num_heads\n",
    "        print(f\"Number of heads in {num_tosses} tosses: {num_heads} | Probability : {num_heads/num_tosses}\")\n",
    "        if (delta < abs(num_heads/num_tosses - 0.5)):\n",
    "            delta = abs(num_heads/num_tosses - 0.5)\n",
    "    probability = total_heads / (num_tosses * num_experiments)\n",
    "    return probability,delta"
   ]
  },
  {
   "cell_type": "code",
   "execution_count": null,
   "metadata": {},
   "outputs": [],
   "source": [
    "# Simulate tossing a coin 10 times\n",
    "print(\"--------------------------------------------------\")\n",
    "num_tosses = 10\n",
    "num_experiments = 10\n",
    "avg_probability_10,biggest_gap = calculate_probability(num_tosses, num_experiments)\n",
    "print(f\"Average Probability of getting a head (10 tosses): {avg_probability_10} | biggest Gap: {biggest_gap}\")\n",
    "\n",
    "print(\"--------------------------------------------------\")\n",
    "# Simulate tossing a coin 50 times\n",
    "num_tosses = 50\n",
    "avg_probability_50,biggest_gap = calculate_probability(num_tosses, num_experiments)\n",
    "print(f\"Average Probability of getting a head (50 tosses): {avg_probability_50} | biggest Gap: {biggest_gap}\")\n",
    "\n",
    "\n",
    "print(\"--------------------------------------------------\")\n",
    "# Simulate tossing a coin 1000 times\n",
    "num_tosses = 1000\n",
    "avg_probability_100,biggest_gap = calculate_probability(num_tosses, num_experiments)\n",
    "print(f\"Average Probability of getting a head (100 tosses): {avg_probability_100} | biggest Gap: {biggest_gap}\")\n",
    "\n",
    "\n",
    "# Simulate tossing a coin 5000 times\n",
    "num_tosses = 5000\n",
    "avg_probability_5000,biggest_gap = calculate_probability(num_tosses, num_experiments)\n",
    "print(f\"Average Probability of getting a head (5000 tosses): {avg_probability_5000} | biggest Gap: {biggest_gap}\")\n"
   ]
  }
 ],
 "metadata": {
  "kernelspec": {
   "display_name": "sentiment_analysis",
   "language": "python",
   "name": "python3"
  },
  "language_info": {
   "codemirror_mode": {
    "name": "ipython",
    "version": 3
   },
   "file_extension": ".py",
   "mimetype": "text/x-python",
   "name": "python",
   "nbconvert_exporter": "python",
   "pygments_lexer": "ipython3",
   "version": "3.9.16"
  },
  "orig_nbformat": 4
 },
 "nbformat": 4,
 "nbformat_minor": 2
}
