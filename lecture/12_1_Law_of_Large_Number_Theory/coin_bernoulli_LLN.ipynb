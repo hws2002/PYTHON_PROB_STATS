{
 "cells": [
  {
   "attachments": {},
   "cell_type": "markdown",
   "metadata": {},
   "source": [
    "# 教材 P231 内容"
   ]
  },
  {
   "cell_type": "code",
   "execution_count": 17,
   "metadata": {},
   "outputs": [],
   "source": [
    "from coin import collect_data,calculate_prob_supremum"
   ]
  },
  {
   "cell_type": "code",
   "execution_count": 21,
   "metadata": {},
   "outputs": [],
   "source": [
    "# configure\n",
    "eps = 0.01\n",
    "p = 0.5\n",
    "number_toss = int(1e4)\n",
    "number_experiment = 100"
   ]
  },
  {
   "cell_type": "code",
   "execution_count": 22,
   "metadata": {},
   "outputs": [],
   "source": [
    "supremum = calculate_prob_supremum(number_toss,eps,p)"
   ]
  },
  {
   "cell_type": "code",
   "execution_count": 23,
   "metadata": {},
   "outputs": [
    {
     "name": "stdout",
     "output_type": "stream",
     "text": [
      "Number of excess: 5 | Supremum: 0.25\n"
     ]
    }
   ],
   "source": [
    "print(f\"Number of excess: {collect_data(number_toss,number_experiment,eps,p)} | Supremum: {supremum}\")"
   ]
  }
 ],
 "metadata": {
  "kernelspec": {
   "display_name": "probs_stats",
   "language": "python",
   "name": "python3"
  },
  "language_info": {
   "codemirror_mode": {
    "name": "ipython",
    "version": 3
   },
   "file_extension": ".py",
   "mimetype": "text/x-python",
   "name": "python",
   "nbconvert_exporter": "python",
   "pygments_lexer": "ipython3",
   "version": "3.9.16"
  },
  "orig_nbformat": 4
 },
 "nbformat": 4,
 "nbformat_minor": 2
}
