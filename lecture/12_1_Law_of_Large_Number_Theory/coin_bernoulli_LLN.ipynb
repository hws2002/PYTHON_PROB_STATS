{
 "cells": [
  {
   "attachments": {},
   "cell_type": "markdown",
   "metadata": {},
   "source": [
    "# 教材 P231 内容"
   ]
  },
  {
   "cell_type": "code",
   "execution_count": 163,
   "metadata": {},
   "outputs": [],
   "source": [
    "from coin import simulate_coin_tosses"
   ]
  },
  {
   "cell_type": "code",
   "execution_count": 164,
   "metadata": {},
   "outputs": [],
   "source": [
    "# configure\n",
    "eps = 0.01\n",
    "p = 0.5\n",
    "number_toss = int(1e4)\n",
    "number_experiment = 1000"
   ]
  },
  {
   "cell_type": "code",
   "execution_count": 165,
   "metadata": {},
   "outputs": [],
   "source": [
    "def collect_data(number_toss,number_experiment,eps = 0.01, p = 0.5):\n",
    "    total_excess  = 0\n",
    "    for _ in range(number_experiment):\n",
    "        num_heads,_ = simulate_coin_tosses(number_toss)\n",
    "        if(num_heads/number_toss > p+eps or num_heads/number_toss < p-eps): # has a 25% of happening\n",
    "            total_excess += 1\n",
    "    return total_excess\n",
    "\n",
    "def calculate_prob_supremum(number_toss,esp = 0.01, p = 0.5):\n",
    "    return (p * (1-p) / (number_toss * esp**2))\n"
   ]
  },
  {
   "cell_type": "code",
   "execution_count": 166,
   "metadata": {},
   "outputs": [],
   "source": [
    "supremum = calculate_prob_supremum(number_toss,eps,p)"
   ]
  },
  {
   "cell_type": "code",
   "execution_count": 167,
   "metadata": {},
   "outputs": [
    {
     "name": "stdout",
     "output_type": "stream",
     "text": [
      "Number of excess: 0 | Supremum: 0.25\n"
     ]
    }
   ],
   "source": [
    "print(f\"Number of excess: {collect_data(number_toss,number_experiment,eps,p)} | Supremum: {supremum}\")"
   ]
  },
  {
   "cell_type": "code",
   "execution_count": null,
   "metadata": {},
   "outputs": [],
   "source": []
  }
 ],
 "metadata": {
  "kernelspec": {
   "display_name": "probs_stats",
   "language": "python",
   "name": "python3"
  },
  "language_info": {
   "codemirror_mode": {
    "name": "ipython",
    "version": 3
   },
   "file_extension": ".py",
   "mimetype": "text/x-python",
   "name": "python",
   "nbconvert_exporter": "python",
   "pygments_lexer": "ipython3",
   "version": "3.9.16"
  },
  "orig_nbformat": 4
 },
 "nbformat": 4,
 "nbformat_minor": 2
}
