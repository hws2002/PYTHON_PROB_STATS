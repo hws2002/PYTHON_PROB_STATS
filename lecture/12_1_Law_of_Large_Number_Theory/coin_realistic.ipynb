{
 "cells": [
  {
   "cell_type": "code",
   "execution_count": 2,
   "metadata": {},
   "outputs": [],
   "source": [
    "from coin import simulate_coin_tosses, calculate_probability"
   ]
  },
  {
   "cell_type": "code",
   "execution_count": 3,
   "metadata": {},
   "outputs": [
    {
     "name": "stdout",
     "output_type": "stream",
     "text": [
      "Tossed the coin 10 times: 5 heads, 5 tails | Probability of heads: 0.5\n"
     ]
    }
   ],
   "source": [
    "# Simulate tossing the coin 10 times. Repeate 1 time\n",
    "num_tosses = 10\n",
    "heads, tails = simulate_coin_tosses(num_tosses)\n",
    "print(f\"Tossed the coin {num_tosses} times: {heads} heads, {tails} tails | Probability of heads: {heads/num_tosses}\")"
   ]
  },
  {
   "cell_type": "code",
   "execution_count": 4,
   "metadata": {},
   "outputs": [
    {
     "name": "stdout",
     "output_type": "stream",
     "text": [
      "--------------------------------------------------\n",
      "Number of heads in 10 tosses: 2 | Probability : 0.2\n",
      "Number of heads in 10 tosses: 4 | Probability : 0.4\n",
      "Number of heads in 10 tosses: 5 | Probability : 0.5\n",
      "Number of heads in 10 tosses: 5 | Probability : 0.5\n",
      "Number of heads in 10 tosses: 5 | Probability : 0.5\n",
      "Number of heads in 10 tosses: 6 | Probability : 0.6\n",
      "Number of heads in 10 tosses: 2 | Probability : 0.2\n",
      "Number of heads in 10 tosses: 5 | Probability : 0.5\n",
      "Number of heads in 10 tosses: 6 | Probability : 0.6\n",
      "Number of heads in 10 tosses: 5 | Probability : 0.5\n",
      "Average Probability of getting a head (10 tosses): 0.45\n",
      "--------------------------------------------------\n",
      "Number of heads in 50 tosses: 19 | Probability : 0.38\n",
      "Number of heads in 50 tosses: 27 | Probability : 0.54\n",
      "Number of heads in 50 tosses: 28 | Probability : 0.56\n",
      "Number of heads in 50 tosses: 21 | Probability : 0.42\n",
      "Number of heads in 50 tosses: 22 | Probability : 0.44\n",
      "Number of heads in 50 tosses: 26 | Probability : 0.52\n",
      "Number of heads in 50 tosses: 21 | Probability : 0.42\n",
      "Number of heads in 50 tosses: 30 | Probability : 0.6\n",
      "Number of heads in 50 tosses: 22 | Probability : 0.44\n",
      "Number of heads in 50 tosses: 26 | Probability : 0.52\n",
      "Average Probability of getting a head (50 tosses): 0.484\n",
      "--------------------------------------------------\n",
      "Number of heads in 1000 tosses: 481 | Probability : 0.481\n",
      "Number of heads in 1000 tosses: 514 | Probability : 0.514\n",
      "Number of heads in 1000 tosses: 504 | Probability : 0.504\n",
      "Number of heads in 1000 tosses: 497 | Probability : 0.497\n",
      "Number of heads in 1000 tosses: 493 | Probability : 0.493\n",
      "Number of heads in 1000 tosses: 496 | Probability : 0.496\n",
      "Number of heads in 1000 tosses: 515 | Probability : 0.515\n",
      "Number of heads in 1000 tosses: 522 | Probability : 0.522\n",
      "Number of heads in 1000 tosses: 503 | Probability : 0.503\n",
      "Number of heads in 1000 tosses: 478 | Probability : 0.478\n",
      "Average Probability of getting a head (100 tosses): 0.5003\n"
     ]
    }
   ],
   "source": [
    "# Simulate tossing a coin 10 times. repeate 10 times \n",
    "print(\"--------------------------------------------------\")\n",
    "num_tosses = 10\n",
    "num_experiments = 10\n",
    "avg_probability_10 = calculate_probability(num_tosses, num_experiments)\n",
    "print(\"Average Probability of getting a head (10 tosses):\", avg_probability_10)\n",
    "\n",
    "print(\"--------------------------------------------------\")\n",
    "# Simulate tossing a coin 50 times. repeate 10 times \n",
    "num_tosses = 50\n",
    "avg_probability_50 = calculate_probability(num_tosses, num_experiments)\n",
    "print(\"Average Probability of getting a head (50 tosses):\", avg_probability_50)\n",
    "\n",
    "print(\"--------------------------------------------------\")\n",
    "# Simulate tossing a coin 1000 times. repeate 10 times \n",
    "num_tosses = 1000\n",
    "avg_probability_100 = calculate_probability(num_tosses, num_experiments)\n",
    "print(\"Average Probability of getting a head (100 tosses):\", avg_probability_100)\n"
   ]
  }
 ],
 "metadata": {
  "kernelspec": {
   "display_name": "sentiment_analysis",
   "language": "python",
   "name": "python3"
  },
  "language_info": {
   "codemirror_mode": {
    "name": "ipython",
    "version": 3
   },
   "file_extension": ".py",
   "mimetype": "text/x-python",
   "name": "python",
   "nbconvert_exporter": "python",
   "pygments_lexer": "ipython3",
   "version": "3.9.16"
  },
  "orig_nbformat": 4
 },
 "nbformat": 4,
 "nbformat_minor": 2
}
