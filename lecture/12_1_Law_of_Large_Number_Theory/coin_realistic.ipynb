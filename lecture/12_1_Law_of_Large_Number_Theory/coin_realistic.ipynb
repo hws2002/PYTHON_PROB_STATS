{
 "cells": [
  {
   "cell_type": "code",
   "execution_count": 21,
   "metadata": {},
   "outputs": [],
   "source": [
    "from coin import simulate_coin_tosses, calculate_probability"
   ]
  },
  {
   "cell_type": "code",
   "execution_count": 23,
   "metadata": {},
   "outputs": [
    {
     "name": "stdout",
     "output_type": "stream",
     "text": [
      "Tossed the coin 10 times: 4 heads, 6 tails | Probability of heads: 0.4\n"
     ]
    }
   ],
   "source": [
    "# Simulate tossing the coin 10 times. Repeate 1 time\n",
    "num_tosses = 10\n",
    "heads, tails = simulate_coin_tosses(num_tosses)\n",
    "print(f\"Tossed the coin {num_tosses} times: {heads} heads, {tails} tails | Probability of heads: {heads/num_tosses}\")"
   ]
  },
  {
   "cell_type": "code",
   "execution_count": 25,
   "metadata": {},
   "outputs": [
    {
     "name": "stdout",
     "output_type": "stream",
     "text": [
      "--------------------------------------------------\n",
      "Number of heads in 10 tosses: 5 | Probability : 0.5\n",
      "Number of heads in 10 tosses: 3 | Probability : 0.3\n",
      "Number of heads in 10 tosses: 6 | Probability : 0.6\n",
      "Number of heads in 10 tosses: 8 | Probability : 0.8\n",
      "Number of heads in 10 tosses: 7 | Probability : 0.7\n",
      "Number of heads in 10 tosses: 4 | Probability : 0.4\n",
      "Number of heads in 10 tosses: 3 | Probability : 0.3\n",
      "Number of heads in 10 tosses: 5 | Probability : 0.5\n",
      "Number of heads in 10 tosses: 4 | Probability : 0.4\n",
      "Number of heads in 10 tosses: 4 | Probability : 0.4\n",
      "Average Probability of getting a head (10 tosses): 0.49\n",
      "--------------------------------------------------\n",
      "Number of heads in 50 tosses: 31 | Probability : 0.62\n",
      "Number of heads in 50 tosses: 30 | Probability : 0.6\n",
      "Number of heads in 50 tosses: 23 | Probability : 0.46\n",
      "Number of heads in 50 tosses: 21 | Probability : 0.42\n",
      "Number of heads in 50 tosses: 23 | Probability : 0.46\n",
      "Number of heads in 50 tosses: 21 | Probability : 0.42\n",
      "Number of heads in 50 tosses: 20 | Probability : 0.4\n",
      "Number of heads in 50 tosses: 30 | Probability : 0.6\n",
      "Number of heads in 50 tosses: 27 | Probability : 0.54\n",
      "Number of heads in 50 tosses: 28 | Probability : 0.56\n",
      "Average Probability of getting a head (50 tosses): 0.508\n",
      "--------------------------------------------------\n",
      "Number of heads in 1000 tosses: 497 | Probability : 0.497\n",
      "Number of heads in 1000 tosses: 523 | Probability : 0.523\n",
      "Number of heads in 1000 tosses: 485 | Probability : 0.485\n",
      "Number of heads in 1000 tosses: 498 | Probability : 0.498\n",
      "Number of heads in 1000 tosses: 492 | Probability : 0.492\n",
      "Number of heads in 1000 tosses: 514 | Probability : 0.514\n",
      "Number of heads in 1000 tosses: 499 | Probability : 0.499\n",
      "Number of heads in 1000 tosses: 494 | Probability : 0.494\n",
      "Number of heads in 1000 tosses: 502 | Probability : 0.502\n",
      "Number of heads in 1000 tosses: 521 | Probability : 0.521\n",
      "Average Probability of getting a head (100 tosses): 0.5025\n"
     ]
    }
   ],
   "source": [
    "# Simulate tossing a coin 10 times. repeate 10 times \n",
    "print(\"--------------------------------------------------\")\n",
    "num_tosses = 10\n",
    "num_experiments = 10\n",
    "avg_probability_10 = calculate_probability(num_tosses, num_experiments)\n",
    "print(\"Average Probability of getting a head (10 tosses):\", avg_probability_10)\n",
    "\n",
    "print(\"--------------------------------------------------\")\n",
    "# Simulate tossing a coin 50 times. repeate 10 times \n",
    "num_tosses = 50\n",
    "avg_probability_50 = calculate_probability(num_tosses, num_experiments)\n",
    "print(\"Average Probability of getting a head (50 tosses):\", avg_probability_50)\n",
    "\n",
    "print(\"--------------------------------------------------\")\n",
    "# Simulate tossing a coin 1000 times. repeate 10 times \n",
    "num_tosses = 1000\n",
    "avg_probability_100 = calculate_probability(num_tosses, num_experiments)\n",
    "print(\"Average Probability of getting a head (100 tosses):\", avg_probability_100)\n"
   ]
  },
  {
   "cell_type": "code",
   "execution_count": null,
   "metadata": {},
   "outputs": [],
   "source": []
  },
  {
   "cell_type": "code",
   "execution_count": null,
   "metadata": {},
   "outputs": [],
   "source": []
  }
 ],
 "metadata": {
  "kernelspec": {
   "display_name": "sentiment_analysis",
   "language": "python",
   "name": "python3"
  },
  "language_info": {
   "codemirror_mode": {
    "name": "ipython",
    "version": 3
   },
   "file_extension": ".py",
   "mimetype": "text/x-python",
   "name": "python",
   "nbconvert_exporter": "python",
   "pygments_lexer": "ipython3",
   "version": "3.9.16"
  },
  "orig_nbformat": 4
 },
 "nbformat": 4,
 "nbformat_minor": 2
}
