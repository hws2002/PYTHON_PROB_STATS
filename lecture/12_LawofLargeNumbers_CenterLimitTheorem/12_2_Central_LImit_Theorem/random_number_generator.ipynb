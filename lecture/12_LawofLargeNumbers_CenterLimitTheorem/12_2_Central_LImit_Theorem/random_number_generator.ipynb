{
 "cells": [
  {
   "attachments": {},
   "cell_type": "markdown",
   "metadata": {},
   "source": [
    "# 教材P241的正态随机数的产生的简单python实现"
   ]
  },
  {
   "cell_type": "code",
   "execution_count": 66,
   "metadata": {},
   "outputs": [],
   "source": [
    "from random_number_generator import normal_random_number_generator"
   ]
  },
  {
   "cell_type": "code",
   "execution_count": 68,
   "metadata": {},
   "outputs": [
    {
     "name": "stdout",
     "output_type": "stream",
     "text": [
      "0.19111472717457278\n"
     ]
    }
   ],
   "source": [
    "random_number = normal_random_number_generator(0,1)\n",
    "print(random_number)"
   ]
  }
 ],
 "metadata": {
  "kernelspec": {
   "display_name": "probs_stats",
   "language": "python",
   "name": "python3"
  },
  "language_info": {
   "codemirror_mode": {
    "name": "ipython",
    "version": 3
   },
   "file_extension": ".py",
   "mimetype": "text/x-python",
   "name": "python",
   "nbconvert_exporter": "python",
   "pygments_lexer": "ipython3",
   "version": "3.9.16"
  },
  "orig_nbformat": 4
 },
 "nbformat": 4,
 "nbformat_minor": 2
}
