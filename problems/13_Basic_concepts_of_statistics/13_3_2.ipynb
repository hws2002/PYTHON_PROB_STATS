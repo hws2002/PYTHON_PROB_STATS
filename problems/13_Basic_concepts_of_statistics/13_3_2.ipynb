{
 "cells": [
  {
   "cell_type": "code",
   "execution_count": 2,
   "metadata": {},
   "outputs": [],
   "source": [
    "from scipy.stats import norm"
   ]
  },
  {
   "cell_type": "code",
   "execution_count": 5,
   "metadata": {},
   "outputs": [],
   "source": [
    "# Define the parameters of the normal distribution\n",
    "mean = 0  # Mean of the distribution\n",
    "std_dev = 1  # Standard deviation of the distribution"
   ]
  },
  {
   "cell_type": "code",
   "execution_count": 13,
   "metadata": {},
   "outputs": [
    {
     "name": "stdout",
     "output_type": "stream",
     "text": [
      "2k = u_0.975*1/2 =  1.959963984540054\n",
      "k =  0.979981992270027\n"
     ]
    }
   ],
   "source": [
    "\n",
    "# Calculate the value of u_0.975\n",
    "u_0_975 = norm.ppf(0.975,mean,std_dev)\n",
    "\n",
    "print(\"2k = u_0.975*1/2 = \", u_0_975)\n",
    "print(\"k = \", 1/2*u_0_975)"
   ]
  },
  {
   "cell_type": "code",
   "execution_count": null,
   "metadata": {},
   "outputs": [],
   "source": [
    "# Calculate the probability P(x < 0.8)\n",
    "probability = norm.cdf(0.8, mean, std_dev)\n",
    "\n",
    "print(\"P(x < 0.8) =\", probability)"
   ]
  }
 ],
 "metadata": {
  "kernelspec": {
   "display_name": "sentiment_analysis",
   "language": "python",
   "name": "python3"
  },
  "language_info": {
   "codemirror_mode": {
    "name": "ipython",
    "version": 3
   },
   "file_extension": ".py",
   "mimetype": "text/x-python",
   "name": "python",
   "nbconvert_exporter": "python",
   "pygments_lexer": "ipython3",
   "version": "3.9.16"
  },
  "orig_nbformat": 4
 },
 "nbformat": 4,
 "nbformat_minor": 2
}
