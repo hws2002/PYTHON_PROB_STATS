{
 "cells": [
  {
   "attachments": {},
   "cell_type": "markdown",
   "metadata": {},
   "source": [
    "题目  \n",
    "<img src=\"./images/2023-06-02-03-07-19.png\" alt=\"第4题题目\" style=\"width: 300px; height: auto;\">  \n",
    "解  \n",
    "<img src=\"./images/2023-06-02-03-31-43.png\" alt=\"第4题解答\" style=\"width: 300px; height: auto;\">"
   ]
  },
  {
   "cell_type": "code",
   "execution_count": 55,
   "metadata": {},
   "outputs": [],
   "source": [
    "from scipy.stats import chi2\n",
    "from math import sqrt"
   ]
  },
  {
   "cell_type": "code",
   "execution_count": 58,
   "metadata": {},
   "outputs": [
    {
     "name": "stdout",
     "output_type": "stream",
     "text": [
      "0.050000000000000044\n",
      "X^2_p(n): 2.7003894999803584\n",
      "X^2_p(n) 19.02276779864163\n"
     ]
    }
   ],
   "source": [
    "# Define the degrees of freedom (k)\n",
    "k = 9\n",
    "\n",
    "# Define the desired confidence level\n",
    "confidence_level = 0.95\n",
    "alpha = 1 - confidence_level\n",
    "\n",
    "print(alpha)\n",
    "# Calculate the critical chi-square value\n",
    "critical_value_r = chi2.isf(1-alpha/2, k)\n",
    "critical_value_l  = chi2.isf(alpha/2, k)\n",
    "print(\"X^2_p(n):\", critical_value_r)\n",
    "print(\"X^2_p(n)\", critical_value_l)"
   ]
  },
  {
   "cell_type": "code",
   "execution_count": 59,
   "metadata": {},
   "outputs": [
    {
     "name": "stdout",
     "output_type": "stream",
     "text": [
      "[13.756704134979994,36.51220365039148]\n"
     ]
    }
   ],
   "source": [
    "print(f\"[{sqrt((400*9)/(critical_value_l))},{sqrt((400*9)/(critical_value_r))}]\")"
   ]
  },
  {
   "attachments": {},
   "cell_type": "markdown",
   "metadata": {},
   "source": [
    "## 扩展 - 求灯泡平均使用时间的95%的置信区间\n",
    "<img src=\"./images/2023-06-02-03-04-48.png\" alt=\"第4题 扩展\" style=\"width: 300px; height: auto;\">\n"
   ]
  },
  {
   "cell_type": "code",
   "execution_count": 32,
   "metadata": {},
   "outputs": [],
   "source": [
    "from scipy.stats import t\n",
    "from math import sqrt"
   ]
  },
  {
   "cell_type": "code",
   "execution_count": 33,
   "metadata": {},
   "outputs": [],
   "source": [
    "# Define the degrees of freedom (df) and the desired confidence level\n",
    "df = 9\n",
    "confidence_level = 0.95"
   ]
  },
  {
   "cell_type": "code",
   "execution_count": 34,
   "metadata": {},
   "outputs": [
    {
     "name": "stdout",
     "output_type": "stream",
     "text": [
      "Critical t-value for a confidence level of 0.950: 2.2622\n"
     ]
    }
   ],
   "source": [
    "# Calculate the critical t-value for the desired confidence level\n",
    "alpha = 1 - confidence_level\n",
    "t_critical = t.ppf(1 - alpha/2, df)\n",
    "\n",
    "print(\"Critical t-value for a confidence level of {:.3f}: {:.4f}\".format(confidence_level, t_critical))"
   ]
  },
  {
   "cell_type": "code",
   "execution_count": 35,
   "metadata": {},
   "outputs": [
    {
     "name": "stdout",
     "output_type": "stream",
     "text": [
      "[1635.6928618809486,1664.3071381190514]\n"
     ]
    }
   ],
   "source": [
    "print(f\"[{1650-(t_critical*20)/sqrt(10)},{1650+(t_critical*20)/sqrt(10)}]\")"
   ]
  },
  {
   "cell_type": "code",
   "execution_count": null,
   "metadata": {},
   "outputs": [],
   "source": []
  }
 ],
 "metadata": {
  "kernelspec": {
   "display_name": "probs_stats",
   "language": "python",
   "name": "python3"
  },
  "language_info": {
   "codemirror_mode": {
    "name": "ipython",
    "version": 3
   },
   "file_extension": ".py",
   "mimetype": "text/x-python",
   "name": "python",
   "nbconvert_exporter": "python",
   "pygments_lexer": "ipython3",
   "version": "3.9.16"
  },
  "orig_nbformat": 4
 },
 "nbformat": 4,
 "nbformat_minor": 2
}
