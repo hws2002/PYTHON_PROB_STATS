{
 "cells": [
  {
   "attachments": {},
   "cell_type": "markdown",
   "metadata": {},
   "source": [
    "![第一题](./images/2023-06-02-01-48-05.png)"
   ]
  },
  {
   "cell_type": "code",
   "execution_count": 5,
   "metadata": {},
   "outputs": [],
   "source": [
    "from scipy.stats import norm\n",
    "from math import sqrt\n"
   ]
  },
  {
   "cell_type": "code",
   "execution_count": 6,
   "metadata": {},
   "outputs": [],
   "source": [
    "mean = 0  # Mean of the distribution\n",
    "std_dev = 1  # Standard deviation of the distribution"
   ]
  },
  {
   "cell_type": "code",
   "execution_count": 10,
   "metadata": {},
   "outputs": [
    {
     "name": "stdout",
     "output_type": "stream",
     "text": [
      "P(x < 2.2587697572631282) = 0.9880511446602449\n",
      "0.9761022893204898\n",
      "0.9761022893204898\n"
     ]
    }
   ],
   "source": [
    "# Calculate the probability P(x < 0.8)\n",
    "threshold = 5*sqrt(10)/7\n",
    "probability = norm.cdf(threshold, mean, std_dev)\n",
    "probability_ = norm.cdf(-threshold, mean, std_dev)\n",
    "\n",
    "print(f\"P(x < {threshold}) = {probability}\")\n",
    "print(2*probability - 1)\n",
    "print(probability - probability_)"
   ]
  },
  {
   "attachments": {},
   "cell_type": "markdown",
   "metadata": {},
   "source": []
  },
  {
   "cell_type": "code",
   "execution_count": null,
   "metadata": {},
   "outputs": [],
   "source": []
  }
 ],
 "metadata": {
  "kernelspec": {
   "display_name": "probs_stats",
   "language": "python",
   "name": "python3"
  },
  "language_info": {
   "codemirror_mode": {
    "name": "ipython",
    "version": 3
   },
   "file_extension": ".py",
   "mimetype": "text/x-python",
   "name": "python",
   "nbconvert_exporter": "python",
   "pygments_lexer": "ipython3",
   "version": "3.9.16"
  },
  "orig_nbformat": 4
 },
 "nbformat": 4,
 "nbformat_minor": 2
}
